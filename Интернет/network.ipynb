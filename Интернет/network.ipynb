{
 "cells": [
  {
   "cell_type": "code",
   "execution_count": 2,
   "id": "781d2770",
   "metadata": {},
   "outputs": [],
   "source": [
    "import requests\n",
    "from requests_toolbelt.utils import dump"
   ]
  },
  {
   "cell_type": "code",
   "execution_count": 3,
   "id": "431c4cf3",
   "metadata": {},
   "outputs": [],
   "source": [
    "# простая функция, выводящая информациию о запросе, чтобы не копировать код много раз\n",
    "# копипаста - это плохо\n",
    "def print_request_info(r):\n",
    "    print(r.status_code)\n",
    "    print(r.text)    "
   ]
  },
  {
   "cell_type": "markdown",
   "id": "cb0bad0f",
   "metadata": {},
   "source": [
    "## GET запросы"
   ]
  },
  {
   "cell_type": "code",
   "execution_count": 8,
   "id": "41e1bd8c",
   "metadata": {},
   "outputs": [
    {
     "name": "stdout",
     "output_type": "stream",
     "text": [
      "200\n",
      "{\n",
      "  \"args\": {}, \n",
      "  \"headers\": {\n",
      "    \"Accept\": \"*/*\", \n",
      "    \"Accept-Encoding\": \"gzip, deflate\", \n",
      "    \"Host\": \"eu.httpbin.org\", \n",
      "    \"User-Agent\": \"python-requests/2.28.1\", \n",
      "    \"X-Amzn-Trace-Id\": \"Root=1-635d5f48-16fe1744406f2d007420acf3\"\n",
      "  }, \n",
      "  \"origin\": \"178.70.82.198\", \n",
      "  \"url\": \"http://eu.httpbin.org/get\"\n",
      "}\n",
      "\n"
     ]
    }
   ],
   "source": [
    "# простой GET запрос\n",
    "r = requests.get(\"http://eu.httpbin.org/get\")\n",
    "print_request_info(r)\n"
   ]
  },
  {
   "cell_type": "code",
   "execution_count": 9,
   "id": "bae8f7b7",
   "metadata": {
    "scrolled": false
   },
   "outputs": [
    {
     "name": "stdout",
     "output_type": "stream",
     "text": [
      "< GET /get HTTP/1.1\r\n",
      "< Host: eu.httpbin.org\r\n",
      "< User-Agent: python-requests/2.28.1\r\n",
      "< Accept-Encoding: gzip, deflate\r\n",
      "< Accept: */*\r\n",
      "< Connection: keep-alive\r\n",
      "< \r\n",
      "\r\n",
      "> HTTP/1.1 200 OK\r\n",
      "> Date: Sat, 29 Oct 2022 17:13:44 GMT\r\n",
      "> Content-Type: application/json\r\n",
      "> Content-Length: 312\r\n",
      "> Connection: keep-alive\r\n",
      "> Server: gunicorn/19.9.0\r\n",
      "> Access-Control-Allow-Origin: *\r\n",
      "> Access-Control-Allow-Credentials: true\r\n",
      "> \r\n",
      "{\n",
      "  \"args\": {}, \n",
      "  \"headers\": {\n",
      "    \"Accept\": \"*/*\", \n",
      "    \"Accept-Encoding\": \"gzip, deflate\", \n",
      "    \"Host\": \"eu.httpbin.org\", \n",
      "    \"User-Agent\": \"python-requests/2.28.1\", \n",
      "    \"X-Amzn-Trace-Id\": \"Root=1-635d5f48-16fe1744406f2d007420acf3\"\n",
      "  }, \n",
      "  \"origin\": \"178.70.82.198\", \n",
      "  \"url\": \"http://eu.httpbin.org/get\"\n",
      "}\n",
      "\n"
     ]
    }
   ],
   "source": [
    "# Вот что происходит внутри\n",
    "print(dump.dump_all(r).decode())"
   ]
  },
  {
   "cell_type": "markdown",
   "id": "4c9ee0e1",
   "metadata": {},
   "source": [
    "То, что < - это мы шлем на сервер, то, что > - это ответ\n",
    "\n",
    "Можете сразу обратить внимание на 2 хедера в ответе:  \n",
    "&ensp;Access-Control-Allow-Origin: *  \n",
    "&ensp;Access-Control-Allow-Credentials: true  \n",
    "Мы про них еще вспомним"
   ]
  },
  {
   "cell_type": "code",
   "execution_count": 93,
   "id": "034546c2",
   "metadata": {},
   "outputs": [
    {
     "name": "stdout",
     "output_type": "stream",
     "text": [
      "HTTP/1.1 200 OK\r\n",
      "Date: Fri, 21 Oct 2022 21:25:04 GMT\r\n",
      "Content-Type: application/json\r\n",
      "Content-Length: 198\r\n",
      "Connection: keep-alive\r\n",
      "Server: gunicorn/19.9.0\r\n",
      "Access-Control-Allow-Origin: *\r\n",
      "Access-Control-Allow-Credentials: true\r\n",
      "\r\n",
      "{\n",
      "  \"args\": {}, \n",
      "  \"headers\": {\n",
      "    \"Host\": \"httpbin.org\", \n",
      "    \"X-Amzn-Trace-Id\": \"Root=1-63530e30-1e65de483d4179282fa76cd4\"\n",
      "  }, \n",
      "  \"origin\": \"178.70.82.198\", \n",
      "  \"url\": \"http://httpbin.org/get\"\n",
      "}\n",
      "\n"
     ]
    }
   ],
   "source": [
    "# раз мы увидели, что нужно слать, можем попробовать сами написать GET запрос, по честному, ручками\n",
    "# \\r\\n - это специальные символы переноса строки\n",
    "\n",
    "import select\n",
    "import socket\n",
    "\n",
    "sock = socket.socket(socket.AF_INET, socket.SOCK_STREAM)  \n",
    "# 1 параметр - тип сетевого протокола, в данном случае - IPv4. Например, можно поставить AF_INT6 - IPv6\n",
    "# 2 параметр - тип протокола транспортного уровня, в данном случае TCP. например, можно ставить UDP\n",
    "sock.connect((\"eu.httpbin.org\", 80))  # http:// здесь не пишется, это этажом выше, на уровне tcp никакого http не знают\n",
    "msg = b\"\"\"\n",
    "GET /get HTTP/1.1\n",
    "Host: httpbin.org\n",
    "\n",
    "\"\"\"\n",
    "# в документации HTTP 1.1 написано, что обязательным является только хедер Host, так что не будем слать лишнего\n",
    "sock.send(msg)\n",
    "\n",
    "TIMEOUT = 1\n",
    "\n",
    "while True:\n",
    "    print(sock.recv(4096).decode())  # получаем 4096 байт, декодируем их (потому что они байты) и печатаем\n",
    "    ready = select.select([sock], [], [], TIMEOUT)\n",
    "    if not ready[0]:  # проверяем, что ещё есть, что получать\n",
    "        break\n"
   ]
  },
  {
   "cell_type": "code",
   "execution_count": 77,
   "id": "3431deda",
   "metadata": {
    "scrolled": false
   },
   "outputs": [
    {
     "name": "stdout",
     "output_type": "stream",
     "text": [
      "200\n",
      "{\n",
      "  \"args\": {\n",
      "    \"list\": [\n",
      "      \"1\", \n",
      "      \"2\", \n",
      "      \"3\"\n",
      "    ], \n",
      "    \"t2\": \"1\", \n",
      "    \"test_param\": \"test\"\n",
      "  }, \n",
      "  \"headers\": {\n",
      "    \"Accept\": \"*/*\", \n",
      "    \"Accept-Encoding\": \"gzip, deflate\", \n",
      "    \"Host\": \"eu.httpbin.org\", \n",
      "    \"My-Header\": \"test_value\", \n",
      "    \"User-Agent\": \"python-requests/2.28.1\", \n",
      "    \"X-Amzn-Trace-Id\": \"Root=1-63509bfd-611d730011bdf9791ef8786a\"\n",
      "  }, \n",
      "  \"origin\": \"178.70.82.198\", \n",
      "  \"url\": \"http://eu.httpbin.org/get?test_param=test&t2=1&list=1&list=2&list=3\"\n",
      "}\n",
      "\n"
     ]
    }
   ],
   "source": [
    "# GET запрос с заданными параметрами и хедерами\n",
    "# Обратите внимание на строчку url в ответе\n",
    "# Параметры при GET запросе кодируются прямо в url\n",
    "print_request_info(\n",
    "    requests.get(\"http://eu.httpbin.org/get\", \n",
    "                 params={\"test_param\": \"test\", \"t2\": 1, \"list\": [1, 2, 3]}, \n",
    "                 headers={\"My-Header\": \"test_value\"})\n",
    ")"
   ]
  },
  {
   "cell_type": "markdown",
   "id": "58076acf",
   "metadata": {},
   "source": [
    "Числа, выводящиеся перед ответом - это код ответа, 200 - значит всё хорошо  \n",
    "Но иногда бывает и плохо: https://ru.wikipedia.org/wiki/Список_кодов_состояния_HTTP  \n",
    "Самые важные коды ошибок, про которые стоит прочитать: 400, 401, 403, 404, 405, 500  \n",
    "Ещё есть 418"
   ]
  },
  {
   "cell_type": "code",
   "execution_count": 42,
   "id": "b6d5aa94",
   "metadata": {},
   "outputs": [
    {
     "name": "stdout",
     "output_type": "stream",
     "text": [
      "404\n",
      "\n"
     ]
    }
   ],
   "source": [
    "# что за число выводится после каждого запроса?\n",
    "# это - код ответа, 200 - значит всё хорошо\n",
    "# но иногда бывает и плохо: https://ru.wikipedia.org/wiki/Список_кодов_состояния_HTTP\n",
    "# самые важные коды ошибок, про которые стоит прочитать: 400, 401, 403, 404, 405, 500\n",
    "# ещё есть 418\n",
    "code = 404\n",
    "print_request_info(\n",
    "    requests.get(f\"http://eu.httpbin.org/status/{code}\")\n",
    ")"
   ]
  },
  {
   "cell_type": "markdown",
   "id": "bd6bb50d",
   "metadata": {},
   "source": [
    "## POST запросы"
   ]
  },
  {
   "cell_type": "markdown",
   "id": "a5e61229",
   "metadata": {},
   "source": [
    "Основное отличие в написании GET и POST запросов - передача параметров\n",
    "В GET запросах, как было показано выше, парметры кодируются прямо в адресную строку.\n",
    "В POST запросах параметры передаются в теле запроса"
   ]
  },
  {
   "cell_type": "code",
   "execution_count": 44,
   "id": "85143b79",
   "metadata": {},
   "outputs": [
    {
     "name": "stdout",
     "output_type": "stream",
     "text": [
      "200\n",
      "{\n",
      "  \"args\": {}, \n",
      "  \"data\": \"\", \n",
      "  \"files\": {}, \n",
      "  \"form\": {}, \n",
      "  \"headers\": {\n",
      "    \"Accept\": \"*/*\", \n",
      "    \"Accept-Encoding\": \"gzip, deflate\", \n",
      "    \"Content-Length\": \"0\", \n",
      "    \"Host\": \"eu.httpbin.org\", \n",
      "    \"User-Agent\": \"python-requests/2.28.1\", \n",
      "    \"X-Amzn-Trace-Id\": \"Root=1-63508be2-515ea5ec7f2080810d03b95b\"\n",
      "  }, \n",
      "  \"json\": null, \n",
      "  \"origin\": \"178.70.82.198\", \n",
      "  \"url\": \"http://eu.httpbin.org/post\"\n",
      "}\n",
      "\n"
     ]
    }
   ],
   "source": [
    "# простой POST запрос\n",
    "# обратите внимание на появившееся поле data - раньше его не было\n",
    "print_request_info(\n",
    "    requests.post(f\"http://eu.httpbin.org/post\")\n",
    ")"
   ]
  },
  {
   "cell_type": "code",
   "execution_count": 45,
   "id": "c9dffdcf",
   "metadata": {},
   "outputs": [
    {
     "name": "stdout",
     "output_type": "stream",
     "text": [
      "200\n",
      "{\n",
      "  \"args\": {}, \n",
      "  \"data\": \"{\\\"test\\\": \\\"test\\\", \\\"param\\\": [1, 2, 3]}\", \n",
      "  \"files\": {}, \n",
      "  \"form\": {}, \n",
      "  \"headers\": {\n",
      "    \"Accept\": \"*/*\", \n",
      "    \"Accept-Encoding\": \"gzip, deflate\", \n",
      "    \"Content-Length\": \"36\", \n",
      "    \"Content-Type\": \"application/json\", \n",
      "    \"Host\": \"eu.httpbin.org\", \n",
      "    \"User-Agent\": \"python-requests/2.28.1\", \n",
      "    \"X-Amzn-Trace-Id\": \"Root=1-63508c23-273e3cd85e2f05df368ef499\"\n",
      "  }, \n",
      "  \"json\": {\n",
      "    \"param\": [\n",
      "      1, \n",
      "      2, \n",
      "      3\n",
      "    ], \n",
      "    \"test\": \"test\"\n",
      "  }, \n",
      "  \"origin\": \"178.70.82.198\", \n",
      "  \"url\": \"http://eu.httpbin.org/post\"\n",
      "}\n",
      "\n"
     ]
    }
   ],
   "source": [
    "# тут в поле дата находится приведённый к строке json, а в поле json - распаршенный\n",
    "# как видите, URL не изменился\n",
    "# технически, можно и к POST запросу приклеить параметры, зашитые в адрес, но на практике так никто не делает\n",
    "# почему - не знаю\n",
    "print_request_info(\n",
    "    requests.post(f\"http://eu.httpbin.org/post\", json={\"test\": \"test\", \"param\": [1, 2, 3]})\n",
    ")\n"
   ]
  },
  {
   "cell_type": "code",
   "execution_count": 51,
   "id": "41effb0d",
   "metadata": {},
   "outputs": [
    {
     "name": "stdout",
     "output_type": "stream",
     "text": [
      "200\n",
      "{\n",
      "  \"args\": {}, \n",
      "  \"data\": \"{\\\"test\\\": \\\"test\\\"}\", \n",
      "  \"files\": {}, \n",
      "  \"form\": {}, \n",
      "  \"headers\": {\n",
      "    \"Accept\": \"*/*\", \n",
      "    \"Accept-Encoding\": \"gzip, deflate\", \n",
      "    \"Content-Length\": \"16\", \n",
      "    \"Host\": \"eu.httpbin.org\", \n",
      "    \"User-Agent\": \"python-requests/2.28.1\", \n",
      "    \"X-Amzn-Trace-Id\": \"Root=1-63509260-6dbd91b8451fce061ea54717\"\n",
      "  }, \n",
      "  \"json\": {\n",
      "    \"test\": \"test\"\n",
      "  }, \n",
      "  \"origin\": \"178.70.82.198\", \n",
      "  \"url\": \"http://eu.httpbin.org/post\"\n",
      "}\n",
      "\n"
     ]
    }
   ],
   "source": [
    "# библиотека requests любезно приводит переданный ей словарь к строке, но никто не запрещает нам сделать это самим\n",
    "import json\n",
    "print_request_info(\n",
    "    requests.post(f\"http://eu.httpbin.org/post\", data=json.dumps({\"test\": \"test\"}))\n",
    ")"
   ]
  },
  {
   "cell_type": "markdown",
   "id": "1ef9938f",
   "metadata": {},
   "source": [
    "можно заметить, что пропал хедер \"Content-Type\": \"application/json\", по-хорошему нам нужно его добавить\n",
    "но можно и забить потому что: \n",
    "\n",
    "_Any HTTP/1.1 message containing an entity-body SHOULD include a Content-Type header field defining the media type of that body. If and only if the media type is not given by a Content-Type field, the recipient MAY attempt to guess the media type via inspection of its content and/or the name extension(s) of the URI used to identify the resource. If the media type remains unknown, the recipient SHOULD treat it as type \"application/octet-stream\".\n",
    "(https://www.ietf.org/rfc/rfc2616.txt)_\n",
    "\n",
    "Документация к requests наоборот, не советует ставить этот хедер вручную.\n",
    "В общем, всем пофиг, работает - не трогай.\n",
    "\n",
    "этот хедер может использоваться (а может и не использоваться) сервером, чтобы понять, как ему расшифровавать то, что пришло в теле запроса.\n",
    "Как вы уже поняли, раз есть такой хедер, значит отправлять можно не только JSON'ы\n",
    "\n"
   ]
  },
  {
   "cell_type": "code",
   "execution_count": 48,
   "id": "a98262b1",
   "metadata": {},
   "outputs": [
    {
     "name": "stdout",
     "output_type": "stream",
     "text": [
      "200\n",
      "{\n",
      "  \"args\": {}, \n",
      "  \"data\": \"Hello\", \n",
      "  \"files\": {}, \n",
      "  \"form\": {}, \n",
      "  \"headers\": {\n",
      "    \"Accept\": \"*/*\", \n",
      "    \"Accept-Encoding\": \"gzip, deflate\", \n",
      "    \"Content-Length\": \"5\", \n",
      "    \"Host\": \"eu.httpbin.org\", \n",
      "    \"User-Agent\": \"python-requests/2.28.1\", \n",
      "    \"X-Amzn-Trace-Id\": \"Root=1-63508dfb-13bf4d7564d4ce48100bc283\"\n",
      "  }, \n",
      "  \"json\": null, \n",
      "  \"origin\": \"178.70.82.198\", \n",
      "  \"url\": \"http://eu.httpbin.org/post\"\n",
      "}\n",
      "\n"
     ]
    }
   ],
   "source": [
    "# например можно отправить текст\n",
    "print_request_info(\n",
    "    requests.post(f\"http://eu.httpbin.org/post\", data=\"Hello\")\n",
    ")"
   ]
  },
  {
   "cell_type": "code",
   "execution_count": 50,
   "id": "42417300",
   "metadata": {},
   "outputs": [
    {
     "name": "stdout",
     "output_type": "stream",
     "text": [
      "200\n",
      "{\n",
      "  \"args\": {}, \n",
      "  \"data\": \"\", \n",
      "  \"files\": {\n",
      "    \"file\": \"Hello\"\n",
      "  }, \n",
      "  \"form\": {}, \n",
      "  \"headers\": {\n",
      "    \"Accept\": \"*/*\", \n",
      "    \"Accept-Encoding\": \"gzip, deflate\", \n",
      "    \"Content-Length\": \"154\", \n",
      "    \"Content-Type\": \"multipart/form-data; boundary=d08c2e480db31e848d78b4f0c4291251\", \n",
      "    \"Host\": \"eu.httpbin.org\", \n",
      "    \"User-Agent\": \"python-requests/2.28.1\", \n",
      "    \"X-Amzn-Trace-Id\": \"Root=1-63509085-3598cb635cab0b5b54edb1b5\"\n",
      "  }, \n",
      "  \"json\": null, \n",
      "  \"origin\": \"178.70.82.198\", \n",
      "  \"url\": \"http://eu.httpbin.org/post\"\n",
      "}\n",
      "\n"
     ]
    }
   ],
   "source": [
    "# или файл\n",
    "# rb - read binary, отсылать файл нужно в бинарном формамате - то есть как множество байт\n",
    "# почему - потому что.\n",
    "print_request_info(\n",
    "    requests.post(f\"http://eu.httpbin.org/post\", files={'file': open('test_file.txt', 'rb')})\n",
    ")"
   ]
  },
  {
   "cell_type": "markdown",
   "id": "e1937373",
   "metadata": {},
   "source": [
    "Про разные виды Content Type можно прочитать, например, тут https://www.geeksforgeeks.org/http-headers-content-type/\n",
    "Но, скорее всего, эта информация вам не пригодится."
   ]
  }
 ],
 "metadata": {
  "kernelspec": {
   "display_name": "Python 3 (ipykernel)",
   "language": "python",
   "name": "python3"
  },
  "language_info": {
   "codemirror_mode": {
    "name": "ipython",
    "version": 3
   },
   "file_extension": ".py",
   "mimetype": "text/x-python",
   "name": "python",
   "nbconvert_exporter": "python",
   "pygments_lexer": "ipython3",
   "version": "3.10.4"
  }
 },
 "nbformat": 4,
 "nbformat_minor": 5
}
